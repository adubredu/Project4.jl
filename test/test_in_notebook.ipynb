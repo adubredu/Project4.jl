{
 "cells": [
  {
   "cell_type": "code",
   "execution_count": 1,
   "id": "5e38e8d0",
   "metadata": {},
   "outputs": [
    {
     "name": "stderr",
     "output_type": "stream",
     "text": [
      "\u001b[32m\u001b[1m  Activating\u001b[22m\u001b[39m environment at `~/research/projects/Project4.jl/Project.toml`\n"
     ]
    }
   ],
   "source": [
    "using Pkg; Pkg.activate(\"../\")"
   ]
  },
  {
   "cell_type": "code",
   "execution_count": 1,
   "id": "1faf2896",
   "metadata": {},
   "outputs": [],
   "source": [
    "using Suppressor\n",
    "@suppress begin using WGLMakie end"
   ]
  },
  {
   "cell_type": "code",
   "execution_count": 2,
   "id": "c012666e",
   "metadata": {},
   "outputs": [
    {
     "name": "stderr",
     "output_type": "stream",
     "text": [
      "┌ Info: Precompiling Images [916415d5-f1e6-5110-898d-aaa5f9f070e0]\n",
      "└ @ Base loading.jl:1342\n",
      "┌ Warning: The call to compilecache failed to create a usable precompiled cache file for Images [916415d5-f1e6-5110-898d-aaa5f9f070e0]\n",
      "│   exception = ErrorException(\"Required dependency ImageQualityIndexes [2996bd0c-7a13-11e9-2da2-2f5ce47296a9] failed to load from a cache file.\")\n",
      "└ @ Base loading.jl:1055\n",
      "┌ Info: Precompiling ImageBase [c817782e-172a-44cc-b673-b171935fbb9e]\n",
      "└ @ Base loading.jl:1342\n",
      "┌ Warning: The call to compilecache failed to create a usable precompiled cache file for ImageBase [c817782e-172a-44cc-b673-b171935fbb9e]\n",
      "│   exception = ErrorException(\"Required dependency ColorVectorSpace [c3611d14-8923-5661-9e6a-0046d554d3a4] failed to load from a cache file.\")\n",
      "└ @ Base loading.jl:1055\n",
      "┌ Info: Precompiling ImageTransformations [02fcd773-0e25-5acc-982a-7f6622650795]\n",
      "└ @ Base loading.jl:1342\n",
      "\u001b[33m\u001b[1m┌ \u001b[22m\u001b[39m\u001b[33m\u001b[1mWarning: \u001b[22m\u001b[39mModule ImageBase with build ID 12020659753807 is missing from the cache.\n",
      "\u001b[33m\u001b[1m│ \u001b[22m\u001b[39mThis may mean ImageBase [c817782e-172a-44cc-b673-b171935fbb9e] does not support precompilation but is imported by a module that does.\n",
      "\u001b[33m\u001b[1m└ \u001b[22m\u001b[39m\u001b[90m@ Base loading.jl:1030\u001b[39m\n",
      "┌ Info: Skipping precompilation since __precompile__(false). Importing ImageTransformations [02fcd773-0e25-5acc-982a-7f6622650795].\n",
      "└ @ Base loading.jl:1047\n",
      "┌ Info: Precompiling ImageAxes [2803e5a7-5153-5ecf-9a86-9b4c37f5f5ac]\n",
      "└ @ Base loading.jl:1342\n",
      "\u001b[33m\u001b[1m┌ \u001b[22m\u001b[39m\u001b[33m\u001b[1mWarning: \u001b[22m\u001b[39mModule ImageBase with build ID 12020659753807 is missing from the cache.\n",
      "\u001b[33m\u001b[1m│ \u001b[22m\u001b[39mThis may mean ImageBase [c817782e-172a-44cc-b673-b171935fbb9e] does not support precompilation but is imported by a module that does.\n",
      "\u001b[33m\u001b[1m└ \u001b[22m\u001b[39m\u001b[90m@ Base loading.jl:1030\u001b[39m\n",
      "┌ Info: Skipping precompilation since __precompile__(false). Importing ImageAxes [2803e5a7-5153-5ecf-9a86-9b4c37f5f5ac].\n",
      "└ @ Base loading.jl:1047\n",
      "┌ Info: Precompiling ImageMetadata [bc367c6b-8a6b-528e-b4bd-a4b897500b49]\n",
      "└ @ Base loading.jl:1342\n",
      "\u001b[33m\u001b[1m┌ \u001b[22m\u001b[39m\u001b[33m\u001b[1mWarning: \u001b[22m\u001b[39mModule ImageAxes with build ID 12024999263794 is missing from the cache.\n",
      "\u001b[33m\u001b[1m│ \u001b[22m\u001b[39mThis may mean ImageAxes [2803e5a7-5153-5ecf-9a86-9b4c37f5f5ac] does not support precompilation but is imported by a module that does.\n",
      "\u001b[33m\u001b[1m└ \u001b[22m\u001b[39m\u001b[90m@ Base loading.jl:1030\u001b[39m\n",
      "┌ Info: Skipping precompilation since __precompile__(false). Importing ImageMetadata [bc367c6b-8a6b-528e-b4bd-a4b897500b49].\n",
      "└ @ Base loading.jl:1047\n",
      "┌ Info: Precompiling ImageFiltering [6a3955dd-da59-5b1f-98d4-e7296123deb5]\n",
      "└ @ Base loading.jl:1342\n",
      "\u001b[33m\u001b[1m┌ \u001b[22m\u001b[39m\u001b[33m\u001b[1mWarning: \u001b[22m\u001b[39mModule ImageBase with build ID 12020659753807 is missing from the cache.\n",
      "\u001b[33m\u001b[1m│ \u001b[22m\u001b[39mThis may mean ImageBase [c817782e-172a-44cc-b673-b171935fbb9e] does not support precompilation but is imported by a module that does.\n",
      "\u001b[33m\u001b[1m└ \u001b[22m\u001b[39m\u001b[90m@ Base loading.jl:1030\u001b[39m\n",
      "┌ Info: Skipping precompilation since __precompile__(false). Importing ImageFiltering [6a3955dd-da59-5b1f-98d4-e7296123deb5].\n",
      "└ @ Base loading.jl:1047\n",
      "┌ Info: Precompiling ImageMorphology [787d08f9-d448-5407-9aad-5290dd7ab264]\n",
      "└ @ Base loading.jl:1342\n",
      "┌ Warning: The call to compilecache failed to create a usable precompiled cache file for ImageMorphology [787d08f9-d448-5407-9aad-5290dd7ab264]\n",
      "│   exception = ErrorException(\"Required dependency ColorVectorSpace [c3611d14-8923-5661-9e6a-0046d554d3a4] failed to load from a cache file.\")\n",
      "└ @ Base loading.jl:1055\n",
      "┌ Info: Precompiling ImageDistances [51556ac3-7006-55f5-8cb3-34580c88182d]\n",
      "└ @ Base loading.jl:1342\n",
      "\u001b[33m\u001b[1m┌ \u001b[22m\u001b[39m\u001b[33m\u001b[1mWarning: \u001b[22m\u001b[39mModule ImageMorphology with build ID 12033649502976 is missing from the cache.\n",
      "\u001b[33m\u001b[1m│ \u001b[22m\u001b[39mThis may mean ImageMorphology [787d08f9-d448-5407-9aad-5290dd7ab264] does not support precompilation but is imported by a module that does.\n",
      "\u001b[33m\u001b[1m└ \u001b[22m\u001b[39m\u001b[90m@ Base loading.jl:1030\u001b[39m\n",
      "┌ Info: Skipping precompilation since __precompile__(false). Importing ImageDistances [51556ac3-7006-55f5-8cb3-34580c88182d].\n",
      "└ @ Base loading.jl:1047\n",
      "┌ Info: Precompiling ImageContrastAdjustment [f332f351-ec65-5f6a-b3d1-319c6670881a]\n",
      "└ @ Base loading.jl:1342\n",
      "\u001b[33m\u001b[1m┌ \u001b[22m\u001b[39m\u001b[33m\u001b[1mWarning: \u001b[22m\u001b[39mModule ImageTransformations with build ID 12023245920429 is missing from the cache.\n",
      "\u001b[33m\u001b[1m│ \u001b[22m\u001b[39mThis may mean ImageTransformations [02fcd773-0e25-5acc-982a-7f6622650795] does not support precompilation but is imported by a module that does.\n",
      "\u001b[33m\u001b[1m└ \u001b[22m\u001b[39m\u001b[90m@ Base loading.jl:1030\u001b[39m\n",
      "┌ Info: Skipping precompilation since __precompile__(false). Importing ImageContrastAdjustment [f332f351-ec65-5f6a-b3d1-319c6670881a].\n",
      "└ @ Base loading.jl:1047\n",
      "┌ Info: Precompiling ImageQualityIndexes [2996bd0c-7a13-11e9-2da2-2f5ce47296a9]\n",
      "└ @ Base loading.jl:1342\n",
      "┌ Warning: The call to compilecache failed to create a usable precompiled cache file for ImageQualityIndexes [2996bd0c-7a13-11e9-2da2-2f5ce47296a9]\n",
      "│   exception = ErrorException(\"Required dependency ColorVectorSpace [c3611d14-8923-5661-9e6a-0046d554d3a4] failed to load from a cache file.\")\n",
      "└ @ Base loading.jl:1055\n",
      "┌ Info: Precompiling ImageSegmentation [80713f31-8817-5129-9cf8-209ff8fb23e1]\n",
      "└ @ Base loading.jl:1342\n",
      "\u001b[33m\u001b[1m┌ \u001b[22m\u001b[39m\u001b[33m\u001b[1mWarning: \u001b[22m\u001b[39mModule ImageFiltering with build ID 12030404168932 is missing from the cache.\n",
      "\u001b[33m\u001b[1m│ \u001b[22m\u001b[39mThis may mean ImageFiltering [6a3955dd-da59-5b1f-98d4-e7296123deb5] does not support precompilation but is imported by a module that does.\n",
      "\u001b[33m\u001b[1m└ \u001b[22m\u001b[39m\u001b[90m@ Base loading.jl:1030\u001b[39m\n",
      "┌ Info: Skipping precompilation since __precompile__(false). Importing ImageSegmentation [80713f31-8817-5129-9cf8-209ff8fb23e1].\n",
      "└ @ Base loading.jl:1047\n",
      "┌ Info: Precompiling ImageShow [4e3cecfd-b093-5904-9786-8bbb286a6a31]\n",
      "└ @ Base loading.jl:1342\n",
      "\u001b[33m\u001b[1m┌ \u001b[22m\u001b[39m\u001b[33m\u001b[1mWarning: \u001b[22m\u001b[39mModule ImageBase with build ID 12020659753807 is missing from the cache.\n",
      "\u001b[33m\u001b[1m│ \u001b[22m\u001b[39mThis may mean ImageBase [c817782e-172a-44cc-b673-b171935fbb9e] does not support precompilation but is imported by a module that does.\n",
      "\u001b[33m\u001b[1m└ \u001b[22m\u001b[39m\u001b[90m@ Base loading.jl:1030\u001b[39m\n",
      "┌ Info: Skipping precompilation since __precompile__(false). Importing ImageShow [4e3cecfd-b093-5904-9786-8bbb286a6a31].\n",
      "└ @ Base loading.jl:1047\n"
     ]
    }
   ],
   "source": [
    "using FileIO\n",
    "using Images"
   ]
  },
  {
   "cell_type": "code",
   "execution_count": 6,
   "id": "842eb786",
   "metadata": {},
   "outputs": [
    {
     "data": {
      "text/plain": [
       "load_images (generic function with 1 method)"
      ]
     },
     "execution_count": 6,
     "metadata": {},
     "output_type": "execute_result"
    }
   ],
   "source": [
    "function load_images(;path=nothing, names=[]) \n",
    "    path = isnothing(path) ? path = \"../src/images/\" : path \n",
    "    path = joinpath(@__DIR__, path)\n",
    "    images = []\n",
    "    if isempty(names)\n",
    "        for i=1:8 \n",
    "            push!(images, load(joinpath(path, \"image0$i.jpg\")))\n",
    "        end\n",
    "    else\n",
    "        for name in names\n",
    "            push!(images, load(joinpath(path, name)))\n",
    "        end\n",
    "    end\n",
    "    return images \n",
    "end"
   ]
  },
  {
   "cell_type": "code",
   "execution_count": 13,
   "id": "2cc2e1a7",
   "metadata": {},
   "outputs": [
    {
     "data": {
      "text/plain": [
       "visualize! (generic function with 1 method)"
      ]
     },
     "execution_count": 13,
     "metadata": {},
     "output_type": "execute_result"
    }
   ],
   "source": [
    "function add_buttons!(fig)\n",
    "    fig[3, 1] = buttongrid = GridLayout(tellwidth=false)\n",
    "    buttonlabels = [\"Previous\", \"Next\", \"Clear\"]\n",
    "    buttons = buttongrid[1, 1:length(buttonlabels)] = \n",
    "                [Makie.Button(fig, label=l) for l in buttonlabels]\n",
    "    return buttons\n",
    "end\n",
    "\n",
    "function visualize!(images)\n",
    "    fig = Figure()\n",
    "    ax = WGLMakie.Axis(fig[1,1], aspect=DataAspect(), width=1000)#, limits=(-15.,15.,-15.,15.))\n",
    "    hidedecorations!(ax)\n",
    "    buttons = add_buttons!(fig) \n",
    "    index = 1\n",
    "    frame = Observable(rotr90(images[index]))\n",
    "    image!(ax, frame) \n",
    "    image_title = Observable(\"image01\")\n",
    "    Label(fig[2,1], image_title, height=5, width=20)\n",
    "    points = Observable(Point2f[])\n",
    "    scatter!(ax.scene, points, color=:purple)\n",
    "\n",
    "    on(buttons[1].clicks) do i\n",
    "        index = index > 1 ? index-1 : index\n",
    "        frame[] = rotr90(images[index])\n",
    "        image_title[] = \"image0$index\"\n",
    "    end\n",
    "    on(buttons[2].clicks) do i\n",
    "        index = index < length(images) ? index+1 : index\n",
    "        frame[] = rotr90(images[index])\n",
    "        image_title[] = \"image0$index\"\n",
    "    end \n",
    "    on(buttons[3].clicks) do i \n",
    "        if !isempty(points[])\n",
    "            points[] = points[][1:end-1]\n",
    "        end\n",
    "        @show length(points[])\n",
    "    end \n",
    "    on(events(ax).mousebutton) do event \n",
    "        if event.button == Mouse.left || event.button == Mouse.right\n",
    "            if event.action == Mouse.press\n",
    "                mp = events(ax).mouseposition[]\n",
    "#                 @show mp\n",
    "                push!(points[], mp)\n",
    "                notify(points)\n",
    "            end\n",
    "        end\n",
    "    end\n",
    "#     on(events(ax).mouseposition) do mp\n",
    "#         @show mp\n",
    "#     end\n",
    "    display(fig)\n",
    "    return ax\n",
    "end"
   ]
  },
  {
   "cell_type": "code",
   "execution_count": 15,
   "id": "15a5871f",
   "metadata": {},
   "outputs": [
    {
     "data": {
      "text/html": [
       "<div data-jscall-id=\"70\"><script data-jscall-id=\"71\" type=\"text/javascript\">\n",
       "    function register_resize_handler(remote_origin) {\n",
       "        function resize_callback(event) {\n",
       "            if (event.origin !== remote_origin) {\n",
       "                return;\n",
       "            }\n",
       "            const uuid = event.data[0];\n",
       "            const width = event.data[1];\n",
       "            const height = event.data[2];\n",
       "            const iframe = document.getElementById('e4f8a25e-fbb2-4634-ba1b-38ccffe09c18');\n",
       "            if (iframe) {\n",
       "                iframe.style.width = width + \"px\";\n",
       "                iframe.style.height = height + \"px\";\n",
       "            }\n",
       "        }\n",
       "        if (window.addEventListener) {\n",
       "            window.addEventListener(\"message\", resize_callback, false);\n",
       "        } else if (window.attachEvent) {\n",
       "            window.attachEvent(\"onmessage\", resize_callback);\n",
       "        }\n",
       "    }\n",
       "    register_resize_handler('http://127.0.0.1:9284')\n",
       "\n",
       "</script><iframe scrolling=\"no\" id=\"e4f8a25e-fbb2-4634-ba1b-38ccffe09c18\" data-jscall-id=\"69\" src=\"http://127.0.0.1:9284/e4f8a25e-fbb2-4634-ba1b-38ccffe09c18\" style=\"position: relative; display: block; width: 100%; height: 100%; padding: 0; overflow: hidden; border: none\"></iframe></div>\n"
      ]
     },
     "metadata": {},
     "output_type": "display_data"
    },
    {
     "data": {
      "text/plain": [
       "Axis with 3 plots:\n",
       " ┣━ Mesh{Tuple{GeometryBasics.Mesh{3, Float32, GeometryBasics.TriangleP{3, Float32, GeometryBasics.PointMeta{3, Float32, Point{3, Float32}, (:normals,), Tuple{Vec{3, Float32}}}}, GeometryBasics.FaceView{GeometryBasics.TriangleP{3, Float32, GeometryBasics.PointMeta{3, Float32, Point{3, Float32}, (:normals,), Tuple{Vec{3, Float32}}}}, GeometryBasics.PointMeta{3, Float32, Point{3, Float32}, (:normals,), Tuple{Vec{3, Float32}}}, GeometryBasics.NgonFace{3, GeometryBasics.OffsetInteger{-1, UInt32}}, StructArrays.StructVector{GeometryBasics.PointMeta{3, Float32, Point{3, Float32}, (:normals,), Tuple{Vec{3, Float32}}}, NamedTuple{(:position, :normals), Tuple{Vector{Point{3, Float32}}, Vector{Vec{3, Float32}}}}, Int64}, Vector{GeometryBasics.NgonFace{3, GeometryBasics.OffsetInteger{-1, UInt32}}}}}}}\n",
       " ┣━ Image{Tuple{StepRangeLen{Float32, Float64, Float64}, StepRangeLen{Float32, Float64, Float64}, Matrix{RGB{Float32}}}}\n",
       " ┗━ Scatter{Tuple{Vector{Point{2, Float32}}}}\n"
      ]
     },
     "execution_count": 15,
     "metadata": {},
     "output_type": "execute_result"
    }
   ],
   "source": [
    "images = load_images()\n",
    "visualize!(images)"
   ]
  },
  {
   "cell_type": "code",
   "execution_count": null,
   "id": "2ea17ddb",
   "metadata": {},
   "outputs": [],
   "source": []
  }
 ],
 "metadata": {
  "kernelspec": {
   "display_name": "Julia 1.6.7",
   "language": "julia",
   "name": "julia-1.6"
  },
  "language_info": {
   "file_extension": ".jl",
   "mimetype": "application/julia",
   "name": "julia",
   "version": "1.6.7"
  }
 },
 "nbformat": 4,
 "nbformat_minor": 5
}
